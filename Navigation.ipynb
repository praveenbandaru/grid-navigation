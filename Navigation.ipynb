{
 "cells": [
  {
   "cell_type": "code",
   "execution_count": 1,
   "metadata": {},
   "outputs": [],
   "source": [
    "from SearchPolicies import Dynamic"
   ]
  },
  {
   "cell_type": "markdown",
   "metadata": {},
   "source": [
    "### grid: \n",
    "\n",
    "(2D) representing the map. \n",
    "\n",
    "<pre>\n",
    "Ex: [[1, 1, 1, 0, 0, 0],\n",
    "     [1, 1, 1, 0, 1, 0],\n",
    "     [0, 0, 0, 0, 0, 0],\n",
    "     [1, 1, 1, 0, 1, 1],\n",
    "     [1, 1, 1, 0, 1, 1]]\n",
    "\t\t\t\t\t\t\t\t\t\t\t\t\n",
    "grid format:\n",
    "0 = navigable space\n",
    "1 = unnavigable space \n",
    "</pre>\t\t\t"
   ]
  },
  {
   "cell_type": "code",
   "execution_count": 2,
   "metadata": {},
   "outputs": [],
   "source": [
    "grid = [[1, 1, 1, 0, 0, 0],\n",
    "        [1, 1, 1, 0, 1, 0],\n",
    "        [0, 0, 0, 0, 0, 0],\n",
    "        [1, 1, 1, 0, 1, 1],\n",
    "        [1, 1, 1, 0, 1, 1]]"
   ]
  },
  {
   "cell_type": "markdown",
   "metadata": {},
   "source": [
    "### init: \n",
    "<pre>\n",
    "(Point) representing the start.\n",
    "Given in the form [row,col,direction]\n",
    "direction = 0: up\n",
    "            1: left\n",
    "            2: down\n",
    "            3: right\n",
    "\n",
    "Ex: [4, 3, 0]\n",
    "</pre>"
   ]
  },
  {
   "cell_type": "code",
   "execution_count": 3,
   "metadata": {},
   "outputs": [],
   "source": [
    "init = [4, 3, 0]"
   ]
  },
  {
   "cell_type": "markdown",
   "metadata": {},
   "source": [
    "### goal: \n",
    "<pre>\n",
    "(Point) representing the goal.\n",
    "Given in the form [row,col]\n",
    "\n",
    "Ex: [2, 0]\n",
    "</pre>"
   ]
  },
  {
   "cell_type": "code",
   "execution_count": 4,
   "metadata": {},
   "outputs": [],
   "source": [
    "goal = [2, 0]"
   ]
  },
  {
   "cell_type": "markdown",
   "metadata": {},
   "source": [
    "### cost: \n",
    "<pre>\n",
    "(1D) representing the cost associated with moving from a cell to an adjacent one\n",
    "Given in the form [right,straight,left]\n",
    "cost has 3 values, corresponding to making \n",
    "a right turn, no turn, and a left turn\t\n",
    "Ex: [2, 1, 20]\n",
    "</pre>\t\t"
   ]
  },
  {
   "cell_type": "code",
   "execution_count": 5,
   "metadata": {},
   "outputs": [],
   "source": [
    "cost = [2, 1, 20]"
   ]
  },
  {
   "cell_type": "markdown",
   "metadata": {},
   "source": [
    "Create the object"
   ]
  },
  {
   "cell_type": "code",
   "execution_count": 6,
   "metadata": {},
   "outputs": [],
   "source": [
    "dynamic = Dynamic(grid,init,goal,cost)"
   ]
  },
  {
   "cell_type": "markdown",
   "metadata": {},
   "source": [
    "Get the policy"
   ]
  },
  {
   "cell_type": "code",
   "execution_count": 7,
   "metadata": {},
   "outputs": [],
   "source": [
    "policy2D = dynamic.optimum_policy2D()"
   ]
  },
  {
   "cell_type": "markdown",
   "metadata": {},
   "source": [
    "Print the route"
   ]
  },
  {
   "cell_type": "code",
   "execution_count": 8,
   "metadata": {},
   "outputs": [
    {
     "name": "stdout",
     "output_type": "stream",
     "text": [
      "[' ', ' ', ' ', 'R', '#', 'R']\n",
      "[' ', ' ', ' ', '#', ' ', '#']\n",
      "['*', '#', '#', '#', '#', 'R']\n",
      "[' ', ' ', ' ', '#', ' ', ' ']\n",
      "[' ', ' ', ' ', '#', ' ', ' ']\n"
     ]
    }
   ],
   "source": [
    "for i in range(len(policy2D)):\n",
    "    print(policy2D[i])"
   ]
  },
  {
   "cell_type": "code",
   "execution_count": null,
   "metadata": {},
   "outputs": [],
   "source": []
  }
 ],
 "metadata": {
  "kernelspec": {
   "display_name": "Python 3",
   "language": "python",
   "name": "python3"
  },
  "language_info": {
   "codemirror_mode": {
    "name": "ipython",
    "version": 3
   },
   "file_extension": ".py",
   "mimetype": "text/x-python",
   "name": "python",
   "nbconvert_exporter": "python",
   "pygments_lexer": "ipython3",
   "version": "3.7.3"
  }
 },
 "nbformat": 4,
 "nbformat_minor": 2
}
